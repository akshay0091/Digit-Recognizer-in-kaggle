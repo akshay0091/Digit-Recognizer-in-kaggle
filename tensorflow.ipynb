{
 "cells": [
  {
   "cell_type": "markdown",
   "id": "55f2bb1a",
   "metadata": {
    "papermill": {
     "duration": 0.033615,
     "end_time": "2021-09-09T09:38:10.968516",
     "exception": false,
     "start_time": "2021-09-09T09:38:10.934901",
     "status": "completed"
    },
    "tags": []
   },
   "source": [
    "importing package"
   ]
  },
  {
   "cell_type": "code",
   "execution_count": 1,
   "id": "05141004",
   "metadata": {
    "_cell_guid": "b1076dfc-b9ad-4769-8c92-a6c4dae69d19",
    "_uuid": "8f2839f25d086af736a60e9eeb907d3b93b6e0e5",
    "execution": {
     "iopub.execute_input": "2021-09-09T09:38:11.045659Z",
     "iopub.status.busy": "2021-09-09T09:38:11.045088Z",
     "iopub.status.idle": "2021-09-09T09:38:16.055694Z",
     "shell.execute_reply": "2021-09-09T09:38:16.054535Z",
     "shell.execute_reply.started": "2021-09-09T09:01:06.653157Z"
    },
    "papermill": {
     "duration": 5.055188,
     "end_time": "2021-09-09T09:38:16.055857",
     "exception": false,
     "start_time": "2021-09-09T09:38:11.000669",
     "status": "completed"
    },
    "tags": []
   },
   "outputs": [],
   "source": [
    "import tensorflow as tf\n",
    "from tensorflow import keras\n",
    "import matplotlib.pyplot as plt\n",
    "%matplotlib inline\n",
    "import numpy as np\n",
    "import pandas as pd\n",
    "import seaborn as sns"
   ]
  },
  {
   "cell_type": "markdown",
   "id": "92e151fb",
   "metadata": {
    "papermill": {
     "duration": 0.030871,
     "end_time": "2021-09-09T09:38:16.120720",
     "exception": false,
     "start_time": "2021-09-09T09:38:16.089849",
     "status": "completed"
    },
    "tags": []
   },
   "source": [
    "**loading the train and test data**"
   ]
  },
  {
   "cell_type": "code",
   "execution_count": 2,
   "id": "caa4ae73",
   "metadata": {
    "execution": {
     "iopub.execute_input": "2021-09-09T09:38:16.186794Z",
     "iopub.status.busy": "2021-09-09T09:38:16.186226Z",
     "iopub.status.idle": "2021-09-09T09:38:21.315491Z",
     "shell.execute_reply": "2021-09-09T09:38:21.314532Z",
     "shell.execute_reply.started": "2021-09-09T09:01:13.010649Z"
    },
    "papermill": {
     "duration": 5.164267,
     "end_time": "2021-09-09T09:38:21.315629",
     "exception": false,
     "start_time": "2021-09-09T09:38:16.151362",
     "status": "completed"
    },
    "tags": []
   },
   "outputs": [
    {
     "data": {
      "text/html": [
       "<div>\n",
       "<style scoped>\n",
       "    .dataframe tbody tr th:only-of-type {\n",
       "        vertical-align: middle;\n",
       "    }\n",
       "\n",
       "    .dataframe tbody tr th {\n",
       "        vertical-align: top;\n",
       "    }\n",
       "\n",
       "    .dataframe thead th {\n",
       "        text-align: right;\n",
       "    }\n",
       "</style>\n",
       "<table border=\"1\" class=\"dataframe\">\n",
       "  <thead>\n",
       "    <tr style=\"text-align: right;\">\n",
       "      <th></th>\n",
       "      <th>label</th>\n",
       "      <th>pixel0</th>\n",
       "      <th>pixel1</th>\n",
       "      <th>pixel2</th>\n",
       "      <th>pixel3</th>\n",
       "      <th>pixel4</th>\n",
       "      <th>pixel5</th>\n",
       "      <th>pixel6</th>\n",
       "      <th>pixel7</th>\n",
       "      <th>pixel8</th>\n",
       "      <th>...</th>\n",
       "      <th>pixel774</th>\n",
       "      <th>pixel775</th>\n",
       "      <th>pixel776</th>\n",
       "      <th>pixel777</th>\n",
       "      <th>pixel778</th>\n",
       "      <th>pixel779</th>\n",
       "      <th>pixel780</th>\n",
       "      <th>pixel781</th>\n",
       "      <th>pixel782</th>\n",
       "      <th>pixel783</th>\n",
       "    </tr>\n",
       "  </thead>\n",
       "  <tbody>\n",
       "    <tr>\n",
       "      <th>0</th>\n",
       "      <td>1</td>\n",
       "      <td>0</td>\n",
       "      <td>0</td>\n",
       "      <td>0</td>\n",
       "      <td>0</td>\n",
       "      <td>0</td>\n",
       "      <td>0</td>\n",
       "      <td>0</td>\n",
       "      <td>0</td>\n",
       "      <td>0</td>\n",
       "      <td>...</td>\n",
       "      <td>0</td>\n",
       "      <td>0</td>\n",
       "      <td>0</td>\n",
       "      <td>0</td>\n",
       "      <td>0</td>\n",
       "      <td>0</td>\n",
       "      <td>0</td>\n",
       "      <td>0</td>\n",
       "      <td>0</td>\n",
       "      <td>0</td>\n",
       "    </tr>\n",
       "  </tbody>\n",
       "</table>\n",
       "<p>1 rows × 785 columns</p>\n",
       "</div>"
      ],
      "text/plain": [
       "   label  pixel0  pixel1  pixel2  pixel3  pixel4  pixel5  pixel6  pixel7  \\\n",
       "0      1       0       0       0       0       0       0       0       0   \n",
       "\n",
       "   pixel8  ...  pixel774  pixel775  pixel776  pixel777  pixel778  pixel779  \\\n",
       "0       0  ...         0         0         0         0         0         0   \n",
       "\n",
       "   pixel780  pixel781  pixel782  pixel783  \n",
       "0         0         0         0         0  \n",
       "\n",
       "[1 rows x 785 columns]"
      ]
     },
     "execution_count": 2,
     "metadata": {},
     "output_type": "execute_result"
    }
   ],
   "source": [
    "df=pd.read_csv('../input/digit-recognizer/train.csv')\n",
    "test=pd.read_csv('../input/digit-recognizer/test.csv')\n",
    "df.head(1)"
   ]
  },
  {
   "cell_type": "markdown",
   "id": "e519cbfa",
   "metadata": {
    "papermill": {
     "duration": 0.030845,
     "end_time": "2021-09-09T09:38:21.377460",
     "exception": false,
     "start_time": "2021-09-09T09:38:21.346615",
     "status": "completed"
    },
    "tags": []
   },
   "source": [
    "**Checking thetrain and test data value is null or not**"
   ]
  },
  {
   "cell_type": "code",
   "execution_count": 3,
   "id": "6e00c2c6",
   "metadata": {
    "execution": {
     "iopub.execute_input": "2021-09-09T09:38:21.443665Z",
     "iopub.status.busy": "2021-09-09T09:38:21.442317Z",
     "iopub.status.idle": "2021-09-09T09:38:21.474000Z",
     "shell.execute_reply": "2021-09-09T09:38:21.473584Z",
     "shell.execute_reply.started": "2021-09-09T09:01:20.011760Z"
    },
    "papermill": {
     "duration": 0.066489,
     "end_time": "2021-09-09T09:38:21.474130",
     "exception": false,
     "start_time": "2021-09-09T09:38:21.407641",
     "status": "completed"
    },
    "tags": []
   },
   "outputs": [
    {
     "data": {
      "text/plain": [
       "count       785\n",
       "unique        1\n",
       "top       False\n",
       "freq        785\n",
       "dtype: object"
      ]
     },
     "execution_count": 3,
     "metadata": {},
     "output_type": "execute_result"
    }
   ],
   "source": [
    "df.isnull().any().describe()"
   ]
  },
  {
   "cell_type": "code",
   "execution_count": 4,
   "id": "6cc5d0f9",
   "metadata": {
    "execution": {
     "iopub.execute_input": "2021-09-09T09:38:21.540997Z",
     "iopub.status.busy": "2021-09-09T09:38:21.539539Z",
     "iopub.status.idle": "2021-09-09T09:38:21.553500Z",
     "shell.execute_reply": "2021-09-09T09:38:21.553906Z",
     "shell.execute_reply.started": "2021-09-09T09:01:20.057425Z"
    },
    "papermill": {
     "duration": 0.049294,
     "end_time": "2021-09-09T09:38:21.554051",
     "exception": false,
     "start_time": "2021-09-09T09:38:21.504757",
     "status": "completed"
    },
    "tags": []
   },
   "outputs": [
    {
     "data": {
      "text/plain": [
       "count       784\n",
       "unique        1\n",
       "top       False\n",
       "freq        784\n",
       "dtype: object"
      ]
     },
     "execution_count": 4,
     "metadata": {},
     "output_type": "execute_result"
    }
   ],
   "source": [
    "test.isnull().any().describe()"
   ]
  },
  {
   "cell_type": "code",
   "execution_count": null,
   "id": "843f099d",
   "metadata": {
    "papermill": {
     "duration": 0.030639,
     "end_time": "2021-09-09T09:38:21.618127",
     "exception": false,
     "start_time": "2021-09-09T09:38:21.587488",
     "status": "completed"
    },
    "tags": []
   },
   "outputs": [],
   "source": []
  },
  {
   "cell_type": "markdown",
   "id": "b520939a",
   "metadata": {
    "papermill": {
     "duration": 0.030399,
     "end_time": "2021-09-09T09:38:21.678723",
     "exception": false,
     "start_time": "2021-09-09T09:38:21.648324",
     "status": "completed"
    },
    "tags": []
   },
   "source": [
    "**removeing the label or output and stored to y variable**"
   ]
  },
  {
   "cell_type": "code",
   "execution_count": 5,
   "id": "d44c7453",
   "metadata": {
    "execution": {
     "iopub.execute_input": "2021-09-09T09:38:21.832480Z",
     "iopub.status.busy": "2021-09-09T09:38:21.831728Z",
     "iopub.status.idle": "2021-09-09T09:38:21.835139Z",
     "shell.execute_reply": "2021-09-09T09:38:21.835563Z",
     "shell.execute_reply.started": "2021-09-09T09:01:20.081839Z"
    },
    "papermill": {
     "duration": 0.126187,
     "end_time": "2021-09-09T09:38:21.835701",
     "exception": false,
     "start_time": "2021-09-09T09:38:21.709514",
     "status": "completed"
    },
    "tags": []
   },
   "outputs": [
    {
     "data": {
      "text/html": [
       "<div>\n",
       "<style scoped>\n",
       "    .dataframe tbody tr th:only-of-type {\n",
       "        vertical-align: middle;\n",
       "    }\n",
       "\n",
       "    .dataframe tbody tr th {\n",
       "        vertical-align: top;\n",
       "    }\n",
       "\n",
       "    .dataframe thead th {\n",
       "        text-align: right;\n",
       "    }\n",
       "</style>\n",
       "<table border=\"1\" class=\"dataframe\">\n",
       "  <thead>\n",
       "    <tr style=\"text-align: right;\">\n",
       "      <th></th>\n",
       "      <th>pixel0</th>\n",
       "      <th>pixel1</th>\n",
       "      <th>pixel2</th>\n",
       "      <th>pixel3</th>\n",
       "      <th>pixel4</th>\n",
       "      <th>pixel5</th>\n",
       "      <th>pixel6</th>\n",
       "      <th>pixel7</th>\n",
       "      <th>pixel8</th>\n",
       "      <th>pixel9</th>\n",
       "      <th>...</th>\n",
       "      <th>pixel774</th>\n",
       "      <th>pixel775</th>\n",
       "      <th>pixel776</th>\n",
       "      <th>pixel777</th>\n",
       "      <th>pixel778</th>\n",
       "      <th>pixel779</th>\n",
       "      <th>pixel780</th>\n",
       "      <th>pixel781</th>\n",
       "      <th>pixel782</th>\n",
       "      <th>pixel783</th>\n",
       "    </tr>\n",
       "  </thead>\n",
       "  <tbody>\n",
       "    <tr>\n",
       "      <th>0</th>\n",
       "      <td>0</td>\n",
       "      <td>0</td>\n",
       "      <td>0</td>\n",
       "      <td>0</td>\n",
       "      <td>0</td>\n",
       "      <td>0</td>\n",
       "      <td>0</td>\n",
       "      <td>0</td>\n",
       "      <td>0</td>\n",
       "      <td>0</td>\n",
       "      <td>...</td>\n",
       "      <td>0</td>\n",
       "      <td>0</td>\n",
       "      <td>0</td>\n",
       "      <td>0</td>\n",
       "      <td>0</td>\n",
       "      <td>0</td>\n",
       "      <td>0</td>\n",
       "      <td>0</td>\n",
       "      <td>0</td>\n",
       "      <td>0</td>\n",
       "    </tr>\n",
       "  </tbody>\n",
       "</table>\n",
       "<p>1 rows × 784 columns</p>\n",
       "</div>"
      ],
      "text/plain": [
       "   pixel0  pixel1  pixel2  pixel3  pixel4  pixel5  pixel6  pixel7  pixel8  \\\n",
       "0       0       0       0       0       0       0       0       0       0   \n",
       "\n",
       "   pixel9  ...  pixel774  pixel775  pixel776  pixel777  pixel778  pixel779  \\\n",
       "0       0  ...         0         0         0         0         0         0   \n",
       "\n",
       "   pixel780  pixel781  pixel782  pixel783  \n",
       "0         0         0         0         0  \n",
       "\n",
       "[1 rows x 784 columns]"
      ]
     },
     "execution_count": 5,
     "metadata": {},
     "output_type": "execute_result"
    }
   ],
   "source": [
    "y=df['label']\n",
    "df1= df.drop(labels = [\"label\"],axis = 1) \n",
    "df1.head(1)"
   ]
  },
  {
   "cell_type": "code",
   "execution_count": 6,
   "id": "18968e17",
   "metadata": {
    "execution": {
     "iopub.execute_input": "2021-09-09T09:38:21.918456Z",
     "iopub.status.busy": "2021-09-09T09:38:21.917337Z",
     "iopub.status.idle": "2021-09-09T09:38:22.062802Z",
     "shell.execute_reply": "2021-09-09T09:38:22.062309Z",
     "shell.execute_reply.started": "2021-09-09T09:01:20.209248Z"
    },
    "papermill": {
     "duration": 0.196291,
     "end_time": "2021-09-09T09:38:22.062932",
     "exception": false,
     "start_time": "2021-09-09T09:38:21.866641",
     "status": "completed"
    },
    "tags": []
   },
   "outputs": [],
   "source": [
    "df2 = df1 / 255.0\n",
    "test1= test / 255.0"
   ]
  },
  {
   "cell_type": "markdown",
   "id": "5c94b3b9",
   "metadata": {
    "papermill": {
     "duration": 0.030777,
     "end_time": "2021-09-09T09:38:22.125151",
     "exception": false,
     "start_time": "2021-09-09T09:38:22.094374",
     "status": "completed"
    },
    "tags": []
   },
   "source": [
    "reshapeing train and test data"
   ]
  },
  {
   "cell_type": "code",
   "execution_count": 7,
   "id": "a2a46270",
   "metadata": {
    "execution": {
     "iopub.execute_input": "2021-09-09T09:38:22.191206Z",
     "iopub.status.busy": "2021-09-09T09:38:22.190651Z",
     "iopub.status.idle": "2021-09-09T09:38:22.194564Z",
     "shell.execute_reply": "2021-09-09T09:38:22.194169Z",
     "shell.execute_reply.started": "2021-09-09T09:01:20.417887Z"
    },
    "papermill": {
     "duration": 0.038858,
     "end_time": "2021-09-09T09:38:22.194688",
     "exception": false,
     "start_time": "2021-09-09T09:38:22.155830",
     "status": "completed"
    },
    "tags": []
   },
   "outputs": [],
   "source": [
    "X_train = df2.values.reshape(-1,28,28,1)\n",
    "test2 = test1.values.reshape(-1,28,28,1)"
   ]
  },
  {
   "cell_type": "code",
   "execution_count": 8,
   "id": "dfed78d9",
   "metadata": {
    "execution": {
     "iopub.execute_input": "2021-09-09T09:38:22.260388Z",
     "iopub.status.busy": "2021-09-09T09:38:22.259853Z",
     "iopub.status.idle": "2021-09-09T09:38:22.264894Z",
     "shell.execute_reply": "2021-09-09T09:38:22.265306Z",
     "shell.execute_reply.started": "2021-09-09T09:01:20.433150Z"
    },
    "papermill": {
     "duration": 0.040038,
     "end_time": "2021-09-09T09:38:22.265452",
     "exception": false,
     "start_time": "2021-09-09T09:38:22.225414",
     "status": "completed"
    },
    "tags": []
   },
   "outputs": [
    {
     "data": {
      "text/plain": [
       "(28, 28, 1)"
      ]
     },
     "execution_count": 8,
     "metadata": {},
     "output_type": "execute_result"
    }
   ],
   "source": [
    "X_train[1].shape"
   ]
  },
  {
   "cell_type": "markdown",
   "id": "1dcfa92b",
   "metadata": {
    "papermill": {
     "duration": 0.031175,
     "end_time": "2021-09-09T09:38:22.327915",
     "exception": false,
     "start_time": "2021-09-09T09:38:22.296740",
     "status": "completed"
    },
    "tags": []
   },
   "source": [
    "**ploting the value**"
   ]
  },
  {
   "cell_type": "code",
   "execution_count": 9,
   "id": "bfb08851",
   "metadata": {
    "execution": {
     "iopub.execute_input": "2021-09-09T09:38:22.408992Z",
     "iopub.status.busy": "2021-09-09T09:38:22.407945Z",
     "iopub.status.idle": "2021-09-09T09:38:22.669313Z",
     "shell.execute_reply": "2021-09-09T09:38:22.670505Z",
     "shell.execute_reply.started": "2021-09-09T09:01:20.446954Z"
    },
    "papermill": {
     "duration": 0.311816,
     "end_time": "2021-09-09T09:38:22.670747",
     "exception": false,
     "start_time": "2021-09-09T09:38:22.358931",
     "status": "completed"
    },
    "tags": []
   },
   "outputs": [
    {
     "data": {
      "text/plain": [
       "<matplotlib.image.AxesImage at 0x7f2239c87a10>"
      ]
     },
     "execution_count": 9,
     "metadata": {},
     "output_type": "execute_result"
    },
    {
     "data": {
      "image/png": "[encoded data removed]",
      "text/plain": [
       "<Figure size 288x288 with 1 Axes>"
      ]
     },
     "metadata": {
      "needs_background": "light"
     },
     "output_type": "display_data"
    }
   ],
   "source": [
    "plt.matshow(X_train[1])"
   ]
  },
  {
   "cell_type": "code",
   "execution_count": 10,
   "id": "57f4e2c5",
   "metadata": {
    "execution": {
     "iopub.execute_input": "2021-09-09T09:38:22.774240Z",
     "iopub.status.busy": "2021-09-09T09:38:22.773553Z",
     "iopub.status.idle": "2021-09-09T09:38:22.776264Z",
     "shell.execute_reply": "2021-09-09T09:38:22.776702Z",
     "shell.execute_reply.started": "2021-09-09T09:01:20.837769Z"
    },
    "papermill": {
     "duration": 0.046283,
     "end_time": "2021-09-09T09:38:22.776828",
     "exception": false,
     "start_time": "2021-09-09T09:38:22.730545",
     "status": "completed"
    },
    "tags": []
   },
   "outputs": [
    {
     "data": {
      "text/plain": [
       "1"
      ]
     },
     "execution_count": 10,
     "metadata": {},
     "output_type": "execute_result"
    }
   ],
   "source": [
    "y[0]"
   ]
  },
  {
   "cell_type": "markdown",
   "id": "80d46e82",
   "metadata": {
    "papermill": {
     "duration": 0.031983,
     "end_time": "2021-09-09T09:38:22.843448",
     "exception": false,
     "start_time": "2021-09-09T09:38:22.811465",
     "status": "completed"
    },
    "tags": []
   },
   "source": [
    "[https://www.google.com/url?sa=i&url=https%3A%2F%2Fwww.edureka.co%2Fblog%2Ftensorflow-tutorial%2F&psig=AOvVaw3UvYuQ7iKRvFtab_jqtJi6&ust=1631265549051000&source=images&cd=vfe&ved=0CAsQjRxqFwoTCNCCoPbH8fICFQAAAAAdAAAAABAD](http://)"
   ]
  },
  {
   "cell_type": "code",
   "execution_count": null,
   "id": "95610c77",
   "metadata": {
    "papermill": {
     "duration": 0.032353,
     "end_time": "2021-09-09T09:38:22.907913",
     "exception": false,
     "start_time": "2021-09-09T09:38:22.875560",
     "status": "completed"
    },
    "tags": []
   },
   "outputs": [],
   "source": []
  },
  {
   "cell_type": "markdown",
   "id": "7da498e5",
   "metadata": {
    "papermill": {
     "duration": 0.031975,
     "end_time": "2021-09-09T09:38:22.971999",
     "exception": false,
     "start_time": "2021-09-09T09:38:22.940024",
     "status": "completed"
    },
    "tags": []
   },
   "source": [
    "**flattern the data**"
   ]
  },
  {
   "cell_type": "code",
   "execution_count": 11,
   "id": "16acd93d",
   "metadata": {
    "execution": {
     "iopub.execute_input": "2021-09-09T09:38:23.040941Z",
     "iopub.status.busy": "2021-09-09T09:38:23.040415Z",
     "iopub.status.idle": "2021-09-09T09:38:23.044318Z",
     "shell.execute_reply": "2021-09-09T09:38:23.043894Z",
     "shell.execute_reply.started": "2021-09-09T09:01:20.853828Z"
    },
    "papermill": {
     "duration": 0.039974,
     "end_time": "2021-09-09T09:38:23.044425",
     "exception": false,
     "start_time": "2021-09-09T09:38:23.004451",
     "status": "completed"
    },
    "tags": []
   },
   "outputs": [],
   "source": [
    "X_train_flattern=X_train.reshape(len(X_train),28*28)\n",
    "test_flattern=test2.reshape(len(test),28*28)"
   ]
  },
  {
   "cell_type": "code",
   "execution_count": 12,
   "id": "5cdce391",
   "metadata": {
    "execution": {
     "iopub.execute_input": "2021-09-09T09:38:23.113183Z",
     "iopub.status.busy": "2021-09-09T09:38:23.111959Z",
     "iopub.status.idle": "2021-09-09T09:38:23.114267Z",
     "shell.execute_reply": "2021-09-09T09:38:23.114673Z",
     "shell.execute_reply.started": "2021-09-09T09:01:20.868814Z"
    },
    "papermill": {
     "duration": 0.038079,
     "end_time": "2021-09-09T09:38:23.114800",
     "exception": false,
     "start_time": "2021-09-09T09:38:23.076721",
     "status": "completed"
    },
    "tags": []
   },
   "outputs": [],
   "source": [
    "random_seed=2"
   ]
  },
  {
   "cell_type": "markdown",
   "id": "127205f3",
   "metadata": {
    "papermill": {
     "duration": 0.031972,
     "end_time": "2021-09-09T09:38:23.179054",
     "exception": false,
     "start_time": "2021-09-09T09:38:23.147082",
     "status": "completed"
    },
    "tags": []
   },
   "source": [
    "split the data into train and test data"
   ]
  },
  {
   "cell_type": "code",
   "execution_count": 13,
   "id": "5629e577",
   "metadata": {
    "execution": {
     "iopub.execute_input": "2021-09-09T09:38:23.247578Z",
     "iopub.status.busy": "2021-09-09T09:38:23.246913Z",
     "iopub.status.idle": "2021-09-09T09:38:23.762524Z",
     "shell.execute_reply": "2021-09-09T09:38:23.761998Z",
     "shell.execute_reply.started": "2021-09-09T09:01:20.882563Z"
    },
    "papermill": {
     "duration": 0.551492,
     "end_time": "2021-09-09T09:38:23.762658",
     "exception": false,
     "start_time": "2021-09-09T09:38:23.211166",
     "status": "completed"
    },
    "tags": []
   },
   "outputs": [],
   "source": [
    "from sklearn.model_selection import train_test_split\n",
    "X_train, X_val, Y_train, Y_val = train_test_split(X_train_flattern, y, test_size = 0.1, random_state=random_seed)"
   ]
  },
  {
   "cell_type": "code",
   "execution_count": 14,
   "id": "b71081d7",
   "metadata": {
    "execution": {
     "iopub.execute_input": "2021-09-09T09:38:23.833904Z",
     "iopub.status.busy": "2021-09-09T09:38:23.833391Z",
     "iopub.status.idle": "2021-09-09T09:38:25.894226Z",
     "shell.execute_reply": "2021-09-09T09:38:25.893686Z",
     "shell.execute_reply.started": "2021-09-09T09:25:42.381045Z"
    },
    "papermill": {
     "duration": 2.098502,
     "end_time": "2021-09-09T09:38:25.894348",
     "exception": false,
     "start_time": "2021-09-09T09:38:23.795846",
     "status": "completed"
    },
    "tags": []
   },
   "outputs": [],
   "source": [
    "import tensorflow as tf\n",
    "\n",
    "from tensorflow.keras import layers, models\n",
    "model = models.Sequential()\n",
    "model.add(layers.Conv2D(32, (3, 3), activation='relu', input_shape=(32, 32, 3)))\n",
    "model.add(layers.MaxPooling2D((2, 2)))\n",
    "model.add(layers.Conv2D(64, (3, 3), activation='relu'))\n",
    "model.add(layers.MaxPooling2D((2, 2)))\n",
    "model.add(layers.Conv2D(64, (3, 3), activation='sigmoid'))"
   ]
  },
  {
   "cell_type": "code",
   "execution_count": 15,
   "id": "a6d289d3",
   "metadata": {
    "execution": {
     "iopub.execute_input": "2021-09-09T09:38:25.966848Z",
     "iopub.status.busy": "2021-09-09T09:38:25.962872Z",
     "iopub.status.idle": "2021-09-09T09:38:25.970544Z",
     "shell.execute_reply": "2021-09-09T09:38:25.971135Z",
     "shell.execute_reply.started": "2021-09-09T09:25:44.679420Z"
    },
    "papermill": {
     "duration": 0.044323,
     "end_time": "2021-09-09T09:38:25.971300",
     "exception": false,
     "start_time": "2021-09-09T09:38:25.926977",
     "status": "completed"
    },
    "tags": []
   },
   "outputs": [
    {
     "name": "stdout",
     "output_type": "stream",
     "text": [
      "Model: \"sequential\"\n",
      "_________________________________________________________________\n",
      "Layer (type)                 Output Shape              Param #   \n",
      "=================================================================\n",
      "conv2d (Conv2D)              (None, 30, 30, 32)        896       \n",
      "_________________________________________________________________\n",
      "max_pooling2d (MaxPooling2D) (None, 15, 15, 32)        0         \n",
      "_________________________________________________________________\n",
      "conv2d_1 (Conv2D)            (None, 13, 13, 64)        18496     \n",
      "_________________________________________________________________\n",
      "max_pooling2d_1 (MaxPooling2 (None, 6, 6, 64)          0         \n",
      "_________________________________________________________________\n",
      "conv2d_2 (Conv2D)            (None, 4, 4, 64)          36928     \n",
      "=================================================================\n",
      "Total params: 56,320\n",
      "Trainable params: 56,320\n",
      "Non-trainable params: 0\n",
      "_________________________________________________________________\n"
     ]
    }
   ],
   "source": [
    "model.summary()"
   ]
  },
  {
   "cell_type": "code",
   "execution_count": 16,
   "id": "7f58a96a",
   "metadata": {
    "execution": {
     "iopub.execute_input": "2021-09-09T09:38:26.042572Z",
     "iopub.status.busy": "2021-09-09T09:38:26.041608Z",
     "iopub.status.idle": "2021-09-09T09:38:26.060276Z",
     "shell.execute_reply": "2021-09-09T09:38:26.059834Z",
     "shell.execute_reply.started": "2021-09-09T09:25:48.910117Z"
    },
    "papermill": {
     "duration": 0.056131,
     "end_time": "2021-09-09T09:38:26.060379",
     "exception": false,
     "start_time": "2021-09-09T09:38:26.004248",
     "status": "completed"
    },
    "tags": []
   },
   "outputs": [],
   "source": [
    "model.add(layers.Flatten())\n",
    "model.add(layers.Dense(64, activation='relu'))\n",
    "model.add(layers.Dense(10))"
   ]
  },
  {
   "cell_type": "code",
   "execution_count": 17,
   "id": "f8b5b190",
   "metadata": {
    "execution": {
     "iopub.execute_input": "2021-09-09T09:38:26.133947Z",
     "iopub.status.busy": "2021-09-09T09:38:26.132262Z",
     "iopub.status.idle": "2021-09-09T09:38:26.137167Z",
     "shell.execute_reply": "2021-09-09T09:38:26.137777Z",
     "shell.execute_reply.started": "2021-09-09T09:26:01.375243Z"
    },
    "papermill": {
     "duration": 0.044801,
     "end_time": "2021-09-09T09:38:26.137943",
     "exception": false,
     "start_time": "2021-09-09T09:38:26.093142",
     "status": "completed"
    },
    "tags": []
   },
   "outputs": [
    {
     "name": "stdout",
     "output_type": "stream",
     "text": [
      "Model: \"sequential\"\n",
      "_________________________________________________________________\n",
      "Layer (type)                 Output Shape              Param #   \n",
      "=================================================================\n",
      "conv2d (Conv2D)              (None, 30, 30, 32)        896       \n",
      "_________________________________________________________________\n",
      "max_pooling2d (MaxPooling2D) (None, 15, 15, 32)        0         \n",
      "_________________________________________________________________\n",
      "conv2d_1 (Conv2D)            (None, 13, 13, 64)        18496     \n",
      "_________________________________________________________________\n",
      "max_pooling2d_1 (MaxPooling2 (None, 6, 6, 64)          0         \n",
      "_________________________________________________________________\n",
      "conv2d_2 (Conv2D)            (None, 4, 4, 64)          36928     \n",
      "_________________________________________________________________\n",
      "flatten (Flatten)            (None, 1024)              0         \n",
      "_________________________________________________________________\n",
      "dense (Dense)                (None, 64)                65600     \n",
      "_________________________________________________________________\n",
      "dense_1 (Dense)              (None, 10)                650       \n",
      "=================================================================\n",
      "Total params: 122,570\n",
      "Trainable params: 122,570\n",
      "Non-trainable params: 0\n",
      "_________________________________________________________________\n"
     ]
    }
   ],
   "source": [
    "model.summary()"
   ]
  },
  {
   "cell_type": "code",
   "execution_count": null,
   "id": "d6e79a88",
   "metadata": {
    "execution": {
     "iopub.execute_input": "2021-09-09T09:26:05.097381Z",
     "iopub.status.busy": "2021-09-09T09:26:05.096864Z",
     "iopub.status.idle": "2021-09-09T09:26:05.125460Z",
     "shell.execute_reply": "2021-09-09T09:26:05.123460Z",
     "shell.execute_reply.started": "2021-09-09T09:26:05.097347Z"
    },
    "papermill": {
     "duration": 0.032775,
     "end_time": "2021-09-09T09:38:26.205278",
     "exception": false,
     "start_time": "2021-09-09T09:38:26.172503",
     "status": "completed"
    },
    "tags": []
   },
   "outputs": [],
   "source": []
  },
  {
   "cell_type": "code",
   "execution_count": 18,
   "id": "7c9f2ea4",
   "metadata": {
    "execution": {
     "iopub.execute_input": "2021-09-09T09:38:26.277155Z",
     "iopub.status.busy": "2021-09-09T09:38:26.276556Z",
     "iopub.status.idle": "2021-09-09T09:38:26.281728Z",
     "shell.execute_reply": "2021-09-09T09:38:26.281300Z",
     "shell.execute_reply.started": "2021-09-09T09:01:24.245573Z"
    },
    "papermill": {
     "duration": 0.043026,
     "end_time": "2021-09-09T09:38:26.281841",
     "exception": false,
     "start_time": "2021-09-09T09:38:26.238815",
     "status": "completed"
    },
    "tags": []
   },
   "outputs": [
    {
     "name": "stdout",
     "output_type": "stream",
     "text": [
      "(37800, 784)\n",
      "(4200, 784)\n",
      "(37800,)\n",
      "(4200,)\n"
     ]
    }
   ],
   "source": [
    "print(X_train.shape)\n",
    "print(X_val.shape)\n",
    "print(Y_train.shape)\n",
    "print(Y_val.shape)"
   ]
  },
  {
   "cell_type": "code",
   "execution_count": null,
   "id": "e016b800",
   "metadata": {
    "papermill": {
     "duration": 0.034696,
     "end_time": "2021-09-09T09:38:26.350306",
     "exception": false,
     "start_time": "2021-09-09T09:38:26.315610",
     "status": "completed"
    },
    "tags": []
   },
   "outputs": [],
   "source": []
  },
  {
   "cell_type": "markdown",
   "id": "92148a2f",
   "metadata": {
    "papermill": {
     "duration": 0.033329,
     "end_time": "2021-09-09T09:38:26.419190",
     "exception": false,
     "start_time": "2021-09-09T09:38:26.385861",
     "status": "completed"
    },
    "tags": []
   },
   "source": [
    "**train the model using tensorflow**"
   ]
  },
  {
   "cell_type": "code",
   "execution_count": 19,
   "id": "0c011b58",
   "metadata": {
    "execution": {
     "iopub.execute_input": "2021-09-09T09:38:26.494606Z",
     "iopub.status.busy": "2021-09-09T09:38:26.493783Z",
     "iopub.status.idle": "2021-09-09T09:41:55.021768Z",
     "shell.execute_reply": "2021-09-09T09:41:55.022248Z",
     "shell.execute_reply.started": "2021-09-09T09:01:24.256374Z"
    },
    "papermill": {
     "duration": 208.569814,
     "end_time": "2021-09-09T09:41:55.022412",
     "exception": false,
     "start_time": "2021-09-09T09:38:26.452598",
     "status": "completed"
    },
    "tags": []
   },
   "outputs": [
    {
     "name": "stdout",
     "output_type": "stream",
     "text": [
      "Epoch 1/100\n",
      "1182/1182 [==============================] - 3s 2ms/step - loss: 0.5361 - accuracy: 0.8465\n",
      "Epoch 2/100\n",
      "1182/1182 [==============================] - 2s 2ms/step - loss: 0.1569 - accuracy: 0.9540\n",
      "Epoch 3/100\n",
      "1182/1182 [==============================] - 2s 2ms/step - loss: 0.1021 - accuracy: 0.9707\n",
      "Epoch 4/100\n",
      "1182/1182 [==============================] - 2s 2ms/step - loss: 0.0731 - accuracy: 0.9782\n",
      "Epoch 5/100\n",
      "1182/1182 [==============================] - 2s 2ms/step - loss: 0.0547 - accuracy: 0.9848\n",
      "Epoch 6/100\n",
      "1182/1182 [==============================] - 2s 2ms/step - loss: 0.0449 - accuracy: 0.9867\n",
      "Epoch 7/100\n",
      "1182/1182 [==============================] - 2s 2ms/step - loss: 0.0325 - accuracy: 0.9908\n",
      "Epoch 8/100\n",
      "1182/1182 [==============================] - 2s 2ms/step - loss: 0.0275 - accuracy: 0.9927\n",
      "Epoch 9/100\n",
      "1182/1182 [==============================] - 2s 2ms/step - loss: 0.0203 - accuracy: 0.9953\n",
      "Epoch 10/100\n",
      "1182/1182 [==============================] - 2s 2ms/step - loss: 0.0167 - accuracy: 0.9959\n",
      "Epoch 11/100\n",
      "1182/1182 [==============================] - 2s 2ms/step - loss: 0.0140 - accuracy: 0.9964\n",
      "Epoch 12/100\n",
      "1182/1182 [==============================] - 2s 2ms/step - loss: 0.0117 - accuracy: 0.9966\n",
      "Epoch 13/100\n",
      "1182/1182 [==============================] - 2s 2ms/step - loss: 0.0093 - accuracy: 0.9980\n",
      "Epoch 14/100\n",
      "1182/1182 [==============================] - 2s 2ms/step - loss: 0.0097 - accuracy: 0.9972\n",
      "Epoch 15/100\n",
      "1182/1182 [==============================] - 2s 2ms/step - loss: 0.0057 - accuracy: 0.9991\n",
      "Epoch 16/100\n",
      "1182/1182 [==============================] - 2s 2ms/step - loss: 0.0067 - accuracy: 0.9983\n",
      "Epoch 17/100\n",
      "1182/1182 [==============================] - 2s 2ms/step - loss: 0.0065 - accuracy: 0.9987\n",
      "Epoch 18/100\n",
      "1182/1182 [==============================] - 2s 2ms/step - loss: 0.0048 - accuracy: 0.9990\n",
      "Epoch 19/100\n",
      "1182/1182 [==============================] - 2s 2ms/step - loss: 0.0033 - accuracy: 0.9994\n",
      "Epoch 20/100\n",
      "1182/1182 [==============================] - 2s 2ms/step - loss: 0.0042 - accuracy: 0.9991\n",
      "Epoch 21/100\n",
      "1182/1182 [==============================] - 2s 2ms/step - loss: 0.0028 - accuracy: 0.9994\n",
      "Epoch 22/100\n",
      "1182/1182 [==============================] - 2s 2ms/step - loss: 0.0042 - accuracy: 0.9987\n",
      "Epoch 23/100\n",
      "1182/1182 [==============================] - 2s 2ms/step - loss: 0.0055 - accuracy: 0.9982\n",
      "Epoch 24/100\n",
      "1182/1182 [==============================] - 2s 2ms/step - loss: 0.0012 - accuracy: 0.9999\n",
      "Epoch 25/100\n",
      "1182/1182 [==============================] - 2s 2ms/step - loss: 0.0064 - accuracy: 0.9978\n",
      "Epoch 26/100\n",
      "1182/1182 [==============================] - 2s 2ms/step - loss: 0.0025 - accuracy: 0.9996\n",
      "Epoch 27/100\n",
      "1182/1182 [==============================] - 2s 2ms/step - loss: 0.0041 - accuracy: 0.9988\n",
      "Epoch 28/100\n",
      "1182/1182 [==============================] - 2s 2ms/step - loss: 8.7073e-04 - accuracy: 0.9999\n",
      "Epoch 29/100\n",
      "1182/1182 [==============================] - 2s 2ms/step - loss: 0.0061 - accuracy: 0.9981\n",
      "Epoch 30/100\n",
      "1182/1182 [==============================] - 2s 2ms/step - loss: 4.9296e-04 - accuracy: 1.0000\n",
      "Epoch 31/100\n",
      "1182/1182 [==============================] - 2s 2ms/step - loss: 1.9385e-04 - accuracy: 1.0000\n",
      "Epoch 32/100\n",
      "1182/1182 [==============================] - 2s 2ms/step - loss: 0.0138 - accuracy: 0.9963\n",
      "Epoch 33/100\n",
      "1182/1182 [==============================] - 2s 2ms/step - loss: 0.0020 - accuracy: 0.9995\n",
      "Epoch 34/100\n",
      "1182/1182 [==============================] - 2s 2ms/step - loss: 1.9727e-04 - accuracy: 1.0000\n",
      "Epoch 35/100\n",
      "1182/1182 [==============================] - 2s 2ms/step - loss: 1.2211e-04 - accuracy: 1.0000\n",
      "Epoch 36/100\n",
      "1182/1182 [==============================] - 2s 2ms/step - loss: 0.0012 - accuracy: 0.9997\n",
      "Epoch 37/100\n",
      "1182/1182 [==============================] - 2s 2ms/step - loss: 0.0065 - accuracy: 0.9979\n",
      "Epoch 38/100\n",
      "1182/1182 [==============================] - 2s 2ms/step - loss: 4.8603e-04 - accuracy: 0.9999\n",
      "Epoch 39/100\n",
      "1182/1182 [==============================] - 2s 2ms/step - loss: 1.4055e-04 - accuracy: 1.0000\n",
      "Epoch 40/100\n",
      "1182/1182 [==============================] - 2s 2ms/step - loss: 8.0123e-05 - accuracy: 1.0000\n",
      "Epoch 41/100\n",
      "1182/1182 [==============================] - 2s 2ms/step - loss: 5.8823e-05 - accuracy: 1.0000\n",
      "Epoch 42/100\n",
      "1182/1182 [==============================] - 2s 2ms/step - loss: 0.0097 - accuracy: 0.9976\n",
      "Epoch 43/100\n",
      "1182/1182 [==============================] - 2s 2ms/step - loss: 0.0019 - accuracy: 0.9993\n",
      "Epoch 44/100\n",
      "1182/1182 [==============================] - 2s 2ms/step - loss: 3.8312e-04 - accuracy: 1.0000\n",
      "Epoch 45/100\n",
      "1182/1182 [==============================] - 2s 2ms/step - loss: 0.0048 - accuracy: 0.9985\n",
      "Epoch 46/100\n",
      "1182/1182 [==============================] - 2s 2ms/step - loss: 4.3776e-04 - accuracy: 1.0000\n",
      "Epoch 47/100\n",
      "1182/1182 [==============================] - 2s 2ms/step - loss: 3.6824e-04 - accuracy: 0.9998\n",
      "Epoch 48/100\n",
      "1182/1182 [==============================] - 2s 2ms/step - loss: 8.0967e-05 - accuracy: 1.0000\n",
      "Epoch 49/100\n",
      "1182/1182 [==============================] - 2s 2ms/step - loss: 3.6971e-05 - accuracy: 1.0000\n",
      "Epoch 50/100\n",
      "1182/1182 [==============================] - 2s 2ms/step - loss: 3.3253e-05 - accuracy: 1.0000\n",
      "Epoch 51/100\n",
      "1182/1182 [==============================] - 2s 2ms/step - loss: 2.4621e-05 - accuracy: 1.0000\n",
      "Epoch 52/100\n",
      "1182/1182 [==============================] - 2s 2ms/step - loss: 0.0164 - accuracy: 0.9953\n",
      "Epoch 53/100\n",
      "1182/1182 [==============================] - 2s 2ms/step - loss: 3.2982e-04 - accuracy: 1.0000\n",
      "Epoch 54/100\n",
      "1182/1182 [==============================] - 2s 2ms/step - loss: 8.6257e-05 - accuracy: 1.0000\n",
      "Epoch 55/100\n",
      "1182/1182 [==============================] - 2s 2ms/step - loss: 3.8205e-05 - accuracy: 1.0000\n",
      "Epoch 56/100\n",
      "1182/1182 [==============================] - 2s 2ms/step - loss: 2.8707e-05 - accuracy: 1.0000\n",
      "Epoch 57/100\n",
      "1182/1182 [==============================] - 2s 2ms/step - loss: 2.0403e-05 - accuracy: 1.0000\n",
      "Epoch 58/100\n",
      "1182/1182 [==============================] - 2s 2ms/step - loss: 1.6600e-05 - accuracy: 1.0000\n",
      "Epoch 59/100\n",
      "1182/1182 [==============================] - 2s 2ms/step - loss: 8.7268e-04 - accuracy: 0.9997\n",
      "Epoch 60/100\n",
      "1182/1182 [==============================] - 2s 2ms/step - loss: 0.0064 - accuracy: 0.9979\n",
      "Epoch 61/100\n",
      "1182/1182 [==============================] - 2s 2ms/step - loss: 6.5999e-04 - accuracy: 0.9998\n",
      "Epoch 62/100\n",
      "1182/1182 [==============================] - 2s 2ms/step - loss: 8.3488e-04 - accuracy: 0.9997\n",
      "Epoch 63/100\n",
      "1182/1182 [==============================] - 2s 2ms/step - loss: 0.0037 - accuracy: 0.9990\n",
      "Epoch 64/100\n",
      "1182/1182 [==============================] - 2s 2ms/step - loss: 0.0029 - accuracy: 0.9989\n",
      "Epoch 65/100\n",
      "1182/1182 [==============================] - 2s 2ms/step - loss: 0.0013 - accuracy: 0.9994\n",
      "Epoch 66/100\n",
      "1182/1182 [==============================] - 2s 2ms/step - loss: 0.0020 - accuracy: 0.9994\n",
      "Epoch 67/100\n",
      "1182/1182 [==============================] - 2s 2ms/step - loss: 0.0012 - accuracy: 0.9993\n",
      "Epoch 68/100\n",
      "1182/1182 [==============================] - 2s 2ms/step - loss: 3.4074e-04 - accuracy: 0.9999\n",
      "Epoch 69/100\n",
      "1182/1182 [==============================] - 2s 2ms/step - loss: 0.0034 - accuracy: 0.9988\n",
      "Epoch 70/100\n",
      "1182/1182 [==============================] - 2s 2ms/step - loss: 0.0045 - accuracy: 0.9982\n",
      "Epoch 71/100\n",
      "1182/1182 [==============================] - 2s 2ms/step - loss: 0.0010 - accuracy: 0.9997\n",
      "Epoch 72/100\n",
      "1182/1182 [==============================] - 2s 2ms/step - loss: 3.7147e-05 - accuracy: 1.0000\n",
      "Epoch 73/100\n",
      "1182/1182 [==============================] - 2s 2ms/step - loss: 2.3169e-05 - accuracy: 1.0000\n",
      "Epoch 74/100\n",
      "1182/1182 [==============================] - 2s 2ms/step - loss: 1.3524e-05 - accuracy: 1.0000\n",
      "Epoch 75/100\n",
      "1182/1182 [==============================] - 2s 2ms/step - loss: 1.1325e-05 - accuracy: 1.0000\n",
      "Epoch 76/100\n",
      "1182/1182 [==============================] - 2s 2ms/step - loss: 8.3065e-06 - accuracy: 1.0000\n",
      "Epoch 77/100\n",
      "1182/1182 [==============================] - 2s 2ms/step - loss: 5.8002e-06 - accuracy: 1.0000\n",
      "Epoch 78/100\n",
      "1182/1182 [==============================] - 2s 2ms/step - loss: 7.3613e-06 - accuracy: 1.0000\n",
      "Epoch 79/100\n",
      "1182/1182 [==============================] - 2s 2ms/step - loss: 0.0182 - accuracy: 0.9965\n",
      "Epoch 80/100\n",
      "1182/1182 [==============================] - 2s 2ms/step - loss: 0.0013 - accuracy: 0.9995\n",
      "Epoch 81/100\n",
      "1182/1182 [==============================] - 2s 2ms/step - loss: 1.2638e-04 - accuracy: 1.0000\n",
      "Epoch 82/100\n",
      "1182/1182 [==============================] - 2s 2ms/step - loss: 3.1467e-05 - accuracy: 1.0000\n",
      "Epoch 83/100\n",
      "1182/1182 [==============================] - 2s 2ms/step - loss: 1.2593e-05 - accuracy: 1.0000\n",
      "Epoch 84/100\n",
      "1182/1182 [==============================] - 2s 2ms/step - loss: 9.2571e-06 - accuracy: 1.0000\n",
      "Epoch 85/100\n",
      "1182/1182 [==============================] - 2s 2ms/step - loss: 7.2156e-06 - accuracy: 1.0000\n",
      "Epoch 86/100\n",
      "1182/1182 [==============================] - 2s 2ms/step - loss: 4.9263e-06 - accuracy: 1.0000\n",
      "Epoch 87/100\n",
      "1182/1182 [==============================] - 2s 2ms/step - loss: 4.2611e-06 - accuracy: 1.0000\n",
      "Epoch 88/100\n",
      "1182/1182 [==============================] - 2s 2ms/step - loss: 3.0432e-06 - accuracy: 1.0000\n",
      "Epoch 89/100\n",
      "1182/1182 [==============================] - 2s 2ms/step - loss: 0.0060 - accuracy: 0.9983\n",
      "Epoch 90/100\n",
      "1182/1182 [==============================] - 3s 2ms/step - loss: 0.0012 - accuracy: 0.9996\n",
      "Epoch 91/100\n",
      "1182/1182 [==============================] - 2s 2ms/step - loss: 0.0026 - accuracy: 0.9990\n",
      "Epoch 92/100\n",
      "1182/1182 [==============================] - 2s 2ms/step - loss: 0.0038 - accuracy: 0.9985\n",
      "Epoch 93/100\n",
      "1182/1182 [==============================] - 2s 2ms/step - loss: 3.4834e-04 - accuracy: 1.0000\n",
      "Epoch 94/100\n",
      "1182/1182 [==============================] - 2s 2ms/step - loss: 0.0027 - accuracy: 0.9994\n",
      "Epoch 95/100\n",
      "1182/1182 [==============================] - 2s 2ms/step - loss: 0.0027 - accuracy: 0.9988\n",
      "Epoch 96/100\n",
      "1182/1182 [==============================] - 2s 2ms/step - loss: 0.0022 - accuracy: 0.9997\n",
      "Epoch 97/100\n",
      "1182/1182 [==============================] - 2s 2ms/step - loss: 1.9001e-04 - accuracy: 0.9999\n",
      "Epoch 98/100\n",
      "1182/1182 [==============================] - 2s 2ms/step - loss: 0.0013 - accuracy: 0.9996\n",
      "Epoch 99/100\n",
      "1182/1182 [==============================] - 2s 2ms/step - loss: 0.0062 - accuracy: 0.9984\n",
      "Epoch 100/100\n",
      "1182/1182 [==============================] - 2s 2ms/step - loss: 1.4989e-04 - accuracy: 1.0000\n"
     ]
    },
    {
     "data": {
      "text/plain": [
       "<tensorflow.python.keras.callbacks.History at 0x7f223969f990>"
      ]
     },
     "execution_count": 19,
     "metadata": {},
     "output_type": "execute_result"
    }
   ],
   "source": [
    "model1 = keras.Sequential([\n",
    "    keras.layers.Dense(100, input_shape=(784,), activation='relu'),\n",
    "    keras.layers.Dense(10, activation='sigmoid')\n",
    "])\n",
    "\n",
    "model1.compile(optimizer='adam',\n",
    "              loss='sparse_categorical_crossentropy',\n",
    "              metrics=['accuracy'])\n",
    "\n",
    "model1.fit(X_train, Y_train, epochs=100)"
   ]
  },
  {
   "cell_type": "markdown",
   "id": "94f5f091",
   "metadata": {
    "papermill": {
     "duration": 1.118183,
     "end_time": "2021-09-09T09:41:57.267399",
     "exception": false,
     "start_time": "2021-09-09T09:41:56.149216",
     "status": "completed"
    },
    "tags": []
   },
   "source": [
    "**evaluate accuracy and loss**"
   ]
  },
  {
   "cell_type": "code",
   "execution_count": 20,
   "id": "9b29f5ab",
   "metadata": {
    "execution": {
     "iopub.execute_input": "2021-09-09T09:41:59.489543Z",
     "iopub.status.busy": "2021-09-09T09:41:59.488456Z",
     "iopub.status.idle": "2021-09-09T09:41:59.853152Z",
     "shell.execute_reply": "2021-09-09T09:41:59.854327Z",
     "shell.execute_reply.started": "2021-09-09T09:04:23.030435Z"
    },
    "papermill": {
     "duration": 1.482023,
     "end_time": "2021-09-09T09:41:59.854510",
     "exception": false,
     "start_time": "2021-09-09T09:41:58.372487",
     "status": "completed"
    },
    "tags": []
   },
   "outputs": [
    {
     "name": "stdout",
     "output_type": "stream",
     "text": [
      "132/132 [==============================] - 0s 2ms/step - loss: 0.2045 - accuracy: 0.9771\n"
     ]
    }
   ],
   "source": [
    "loss,acc=model1.evaluate(X_val,Y_val)"
   ]
  },
  {
   "cell_type": "markdown",
   "id": "771624d0",
   "metadata": {
    "papermill": {
     "duration": 1.353654,
     "end_time": "2021-09-09T09:42:02.600167",
     "exception": false,
     "start_time": "2021-09-09T09:42:01.246513",
     "status": "completed"
    },
    "tags": []
   },
   "source": [
    "**ploting accurcy using confusion matrix**"
   ]
  },
  {
   "cell_type": "code",
   "execution_count": 21,
   "id": "c734ade9",
   "metadata": {
    "execution": {
     "iopub.execute_input": "2021-09-09T09:42:05.052413Z",
     "iopub.status.busy": "2021-09-09T09:42:05.051541Z",
     "iopub.status.idle": "2021-09-09T09:42:05.911494Z",
     "shell.execute_reply": "2021-09-09T09:42:05.911005Z",
     "shell.execute_reply.started": "2021-09-09T09:04:23.521096Z"
    },
    "papermill": {
     "duration": 2.204077,
     "end_time": "2021-09-09T09:42:05.911623",
     "exception": false,
     "start_time": "2021-09-09T09:42:03.707546",
     "status": "completed"
    },
    "tags": []
   },
   "outputs": [
    {
     "data": {
      "text/plain": [
       "Text(69.0, 0.5, 'Truth')"
      ]
     },
     "execution_count": 21,
     "metadata": {},
     "output_type": "execute_result"
    },
    {
     "data": {
      "image/png": "[encoded data removed]",
      "text/plain": [
       "<Figure size 720x504 with 2 Axes>"
      ]
     },
     "metadata": {
      "needs_background": "light"
     },
     "output_type": "display_data"
    }
   ],
   "source": [
    "y_predicted = model1.predict(X_val)\n",
    "y_predicted_labels = [np.argmax(i) for i in y_predicted]\n",
    "cm = tf.math.confusion_matrix(labels=Y_val,predictions=y_predicted_labels)\n",
    "\n",
    "plt.figure(figsize = (10,7))\n",
    "sns.heatmap(cm, annot=True, fmt='d')\n",
    "plt.xlabel('Predicted')\n",
    "plt.ylabel('Truth')"
   ]
  },
  {
   "cell_type": "code",
   "execution_count": 22,
   "id": "19161cb6",
   "metadata": {
    "execution": {
     "iopub.execute_input": "2021-09-09T09:42:08.201308Z",
     "iopub.status.busy": "2021-09-09T09:42:08.200480Z",
     "iopub.status.idle": "2021-09-09T09:42:08.214278Z",
     "shell.execute_reply": "2021-09-09T09:42:08.213836Z",
     "shell.execute_reply.started": "2021-09-09T09:04:24.660639Z"
    },
    "papermill": {
     "duration": 1.169271,
     "end_time": "2021-09-09T09:42:08.214395",
     "exception": false,
     "start_time": "2021-09-09T09:42:07.045124",
     "status": "completed"
    },
    "tags": []
   },
   "outputs": [],
   "source": [
    "probability_model = tf.keras.Sequential([model1, \n",
    "                                         tf.keras.layers.Softmax()])"
   ]
  },
  {
   "cell_type": "code",
   "execution_count": 23,
   "id": "a560bb71",
   "metadata": {
    "execution": {
     "iopub.execute_input": "2021-09-09T09:42:10.437994Z",
     "iopub.status.busy": "2021-09-09T09:42:10.437085Z",
     "iopub.status.idle": "2021-09-09T09:42:11.326450Z",
     "shell.execute_reply": "2021-09-09T09:42:11.327247Z",
     "shell.execute_reply.started": "2021-09-09T09:04:24.693249Z"
    },
    "papermill": {
     "duration": 2.004707,
     "end_time": "2021-09-09T09:42:11.327408",
     "exception": false,
     "start_time": "2021-09-09T09:42:09.322701",
     "status": "completed"
    },
    "tags": []
   },
   "outputs": [],
   "source": [
    "predition=probability_model.predict(test)"
   ]
  },
  {
   "cell_type": "markdown",
   "id": "040e2879",
   "metadata": {
    "papermill": {
     "duration": 1.11428,
     "end_time": "2021-09-09T09:42:13.549813",
     "exception": false,
     "start_time": "2021-09-09T09:42:12.435533",
     "status": "completed"
    },
    "tags": []
   },
   "source": []
  },
  {
   "cell_type": "markdown",
   "id": "da21d388",
   "metadata": {
    "papermill": {
     "duration": 1.358328,
     "end_time": "2021-09-09T09:42:16.026505",
     "exception": false,
     "start_time": "2021-09-09T09:42:14.668177",
     "status": "completed"
    },
    "tags": []
   },
   "source": []
  },
  {
   "cell_type": "markdown",
   "id": "f92f077e",
   "metadata": {
    "papermill": {
     "duration": 1.115235,
     "end_time": "2021-09-09T09:42:18.280209",
     "exception": false,
     "start_time": "2021-09-09T09:42:17.164974",
     "status": "completed"
    },
    "tags": []
   },
   "source": [
    "check the value"
   ]
  },
  {
   "cell_type": "code",
   "execution_count": 24,
   "id": "44e68b5e",
   "metadata": {
    "execution": {
     "iopub.execute_input": "2021-09-09T09:42:20.511141Z",
     "iopub.status.busy": "2021-09-09T09:42:20.510331Z",
     "iopub.status.idle": "2021-09-09T09:42:20.513329Z",
     "shell.execute_reply": "2021-09-09T09:42:20.513775Z",
     "shell.execute_reply.started": "2021-09-09T09:04:25.761141Z"
    },
    "papermill": {
     "duration": 1.124095,
     "end_time": "2021-09-09T09:42:20.513917",
     "exception": false,
     "start_time": "2021-09-09T09:42:19.389822",
     "status": "completed"
    },
    "tags": []
   },
   "outputs": [
    {
     "data": {
      "text/plain": [
       "array([0.23196931, 0.08533675, 0.08533675, 0.08533675, 0.08533675,\n",
       "       0.08533675, 0.08533675, 0.08533675, 0.08533675, 0.08533675],\n",
       "      dtype=float32)"
      ]
     },
     "execution_count": 24,
     "metadata": {},
     "output_type": "execute_result"
    }
   ],
   "source": [
    "predition[1]"
   ]
  },
  {
   "cell_type": "markdown",
   "id": "3af4e8e0",
   "metadata": {
    "papermill": {
     "duration": 1.148677,
     "end_time": "2021-09-09T09:42:22.790586",
     "exception": false,
     "start_time": "2021-09-09T09:42:21.641909",
     "status": "completed"
    },
    "tags": []
   },
   "source": [
    "select maximum value from the array"
   ]
  },
  {
   "cell_type": "code",
   "execution_count": 25,
   "id": "457094e7",
   "metadata": {
    "execution": {
     "iopub.execute_input": "2021-09-09T09:42:25.031194Z",
     "iopub.status.busy": "2021-09-09T09:42:25.030425Z",
     "iopub.status.idle": "2021-09-09T09:42:25.033683Z",
     "shell.execute_reply": "2021-09-09T09:42:25.034083Z",
     "shell.execute_reply.started": "2021-09-09T09:04:25.772342Z"
    },
    "papermill": {
     "duration": 1.128818,
     "end_time": "2021-09-09T09:42:25.034232",
     "exception": false,
     "start_time": "2021-09-09T09:42:23.905414",
     "status": "completed"
    },
    "tags": []
   },
   "outputs": [
    {
     "data": {
      "text/plain": [
       "0"
      ]
     },
     "execution_count": 25,
     "metadata": {},
     "output_type": "execute_result"
    }
   ],
   "source": [
    "np.argmax(predition[1])"
   ]
  },
  {
   "cell_type": "code",
   "execution_count": 26,
   "id": "168f7b29",
   "metadata": {
    "execution": {
     "iopub.execute_input": "2021-09-09T09:42:27.587834Z",
     "iopub.status.busy": "2021-09-09T09:42:27.587129Z",
     "iopub.status.idle": "2021-09-09T09:42:27.589986Z",
     "shell.execute_reply": "2021-09-09T09:42:27.590407Z",
     "shell.execute_reply.started": "2021-09-09T09:04:25.789595Z"
    },
    "papermill": {
     "duration": 1.439743,
     "end_time": "2021-09-09T09:42:27.590642",
     "exception": false,
     "start_time": "2021-09-09T09:42:26.150899",
     "status": "completed"
    },
    "tags": []
   },
   "outputs": [
    {
     "data": {
      "text/plain": [
       "0"
      ]
     },
     "execution_count": 26,
     "metadata": {},
     "output_type": "execute_result"
    }
   ],
   "source": [
    "y[1]"
   ]
  },
  {
   "cell_type": "code",
   "execution_count": null,
   "id": "db4dfdf9",
   "metadata": {
    "papermill": {
     "duration": 1.147229,
     "end_time": "2021-09-09T09:42:29.918849",
     "exception": false,
     "start_time": "2021-09-09T09:42:28.771620",
     "status": "completed"
    },
    "tags": []
   },
   "outputs": [],
   "source": []
  },
  {
   "cell_type": "markdown",
   "id": "901a621d",
   "metadata": {
    "papermill": {
     "duration": 1.165818,
     "end_time": "2021-09-09T09:42:32.249328",
     "exception": false,
     "start_time": "2021-09-09T09:42:31.083510",
     "status": "completed"
    },
    "tags": []
   },
   "source": []
  },
  {
   "cell_type": "markdown",
   "id": "65b3fb07",
   "metadata": {
    "papermill": {
     "duration": 1.15952,
     "end_time": "2021-09-09T09:42:34.545652",
     "exception": false,
     "start_time": "2021-09-09T09:42:33.386132",
     "status": "completed"
    },
    "tags": []
   },
   "source": [
    "**\n",
    " Using hidden layer**"
   ]
  },
  {
   "cell_type": "code",
   "execution_count": 27,
   "id": "9ae71b73",
   "metadata": {
    "execution": {
     "iopub.execute_input": "2021-09-09T09:42:37.240860Z",
     "iopub.status.busy": "2021-09-09T09:42:37.240016Z",
     "iopub.status.idle": "2021-09-09T09:46:08.509650Z",
     "shell.execute_reply": "2021-09-09T09:46:08.508904Z",
     "shell.execute_reply.started": "2021-09-09T09:04:25.804839Z"
    },
    "papermill": {
     "duration": 212.399122,
     "end_time": "2021-09-09T09:46:08.509775",
     "exception": false,
     "start_time": "2021-09-09T09:42:36.110653",
     "status": "completed"
    },
    "tags": []
   },
   "outputs": [
    {
     "name": "stdout",
     "output_type": "stream",
     "text": [
      "Epoch 1/100\n",
      "1182/1182 [==============================] - 2s 2ms/step - loss: 0.5318 - accuracy: 0.8499\n",
      "Epoch 2/100\n",
      "1182/1182 [==============================] - 2s 2ms/step - loss: 0.1661 - accuracy: 0.9513\n",
      "Epoch 3/100\n",
      "1182/1182 [==============================] - 2s 2ms/step - loss: 0.1059 - accuracy: 0.9694\n",
      "Epoch 4/100\n",
      "1182/1182 [==============================] - 2s 2ms/step - loss: 0.0776 - accuracy: 0.9779\n",
      "Epoch 5/100\n",
      "1182/1182 [==============================] - 2s 2ms/step - loss: 0.0630 - accuracy: 0.9812\n",
      "Epoch 6/100\n",
      "1182/1182 [==============================] - 2s 2ms/step - loss: 0.0477 - accuracy: 0.9863\n",
      "Epoch 7/100\n",
      "1182/1182 [==============================] - 2s 2ms/step - loss: 0.0374 - accuracy: 0.9893\n",
      "Epoch 8/100\n",
      "1182/1182 [==============================] - 2s 2ms/step - loss: 0.0307 - accuracy: 0.9920\n",
      "Epoch 9/100\n",
      "1182/1182 [==============================] - 2s 2ms/step - loss: 0.0242 - accuracy: 0.9940\n",
      "Epoch 10/100\n",
      "1182/1182 [==============================] - 2s 2ms/step - loss: 0.0183 - accuracy: 0.9951\n",
      "Epoch 11/100\n",
      "1182/1182 [==============================] - 2s 2ms/step - loss: 0.0169 - accuracy: 0.9952\n",
      "Epoch 12/100\n",
      "1182/1182 [==============================] - 2s 2ms/step - loss: 0.0147 - accuracy: 0.9961\n",
      "Epoch 13/100\n",
      "1182/1182 [==============================] - 2s 2ms/step - loss: 0.0104 - accuracy: 0.9977\n",
      "Epoch 14/100\n",
      "1182/1182 [==============================] - 2s 2ms/step - loss: 0.0095 - accuracy: 0.9983\n",
      "Epoch 15/100\n",
      "1182/1182 [==============================] - 2s 2ms/step - loss: 0.0081 - accuracy: 0.9978\n",
      "Epoch 16/100\n",
      "1182/1182 [==============================] - 3s 3ms/step - loss: 0.0072 - accuracy: 0.9981\n",
      "Epoch 17/100\n",
      "1182/1182 [==============================] - 2s 2ms/step - loss: 0.0072 - accuracy: 0.9977\n",
      "Epoch 18/100\n",
      "1182/1182 [==============================] - 2s 2ms/step - loss: 0.0031 - accuracy: 0.9994\n",
      "Epoch 19/100\n",
      "1182/1182 [==============================] - 2s 2ms/step - loss: 0.0085 - accuracy: 0.9973\n",
      "Epoch 20/100\n",
      "1182/1182 [==============================] - 2s 2ms/step - loss: 0.0050 - accuracy: 0.9989\n",
      "Epoch 21/100\n",
      "1182/1182 [==============================] - 2s 2ms/step - loss: 0.0050 - accuracy: 0.9985\n",
      "Epoch 22/100\n",
      "1182/1182 [==============================] - 2s 2ms/step - loss: 0.0054 - accuracy: 0.9984\n",
      "Epoch 23/100\n",
      "1182/1182 [==============================] - 2s 2ms/step - loss: 0.0023 - accuracy: 0.9997\n",
      "Epoch 24/100\n",
      "1182/1182 [==============================] - 2s 2ms/step - loss: 0.0062 - accuracy: 0.9979\n",
      "Epoch 25/100\n",
      "1182/1182 [==============================] - 2s 2ms/step - loss: 0.0012 - accuracy: 0.9998\n",
      "Epoch 26/100\n",
      "1182/1182 [==============================] - 2s 2ms/step - loss: 0.0027 - accuracy: 0.9992\n",
      "Epoch 27/100\n",
      "1182/1182 [==============================] - 2s 2ms/step - loss: 0.0025 - accuracy: 0.9995\n",
      "Epoch 28/100\n",
      "1182/1182 [==============================] - 2s 2ms/step - loss: 0.0013 - accuracy: 0.9999\n",
      "Epoch 29/100\n",
      "1182/1182 [==============================] - 2s 2ms/step - loss: 0.0072 - accuracy: 0.9974\n",
      "Epoch 30/100\n",
      "1182/1182 [==============================] - 2s 2ms/step - loss: 7.8091e-04 - accuracy: 1.0000\n",
      "Epoch 31/100\n",
      "1182/1182 [==============================] - 2s 2ms/step - loss: 3.3659e-04 - accuracy: 1.0000\n",
      "Epoch 32/100\n",
      "1182/1182 [==============================] - 3s 3ms/step - loss: 0.0104 - accuracy: 0.9965\n",
      "Epoch 33/100\n",
      "1182/1182 [==============================] - 2s 2ms/step - loss: 6.8688e-04 - accuracy: 1.0000\n",
      "Epoch 34/100\n",
      "1182/1182 [==============================] - 2s 2ms/step - loss: 0.0025 - accuracy: 0.9994\n",
      "Epoch 35/100\n",
      "1182/1182 [==============================] - 2s 2ms/step - loss: 0.0031 - accuracy: 0.9992\n",
      "Epoch 36/100\n",
      "1182/1182 [==============================] - 2s 2ms/step - loss: 0.0021 - accuracy: 0.9995\n",
      "Epoch 37/100\n",
      "1182/1182 [==============================] - 2s 2ms/step - loss: 0.0028 - accuracy: 0.9994\n",
      "Epoch 38/100\n",
      "1182/1182 [==============================] - 2s 2ms/step - loss: 0.0042 - accuracy: 0.9986\n",
      "Epoch 39/100\n",
      "1182/1182 [==============================] - 2s 2ms/step - loss: 0.0018 - accuracy: 0.9993\n",
      "Epoch 40/100\n",
      "1182/1182 [==============================] - 2s 2ms/step - loss: 8.3076e-04 - accuracy: 0.9999\n",
      "Epoch 41/100\n",
      "1182/1182 [==============================] - 2s 2ms/step - loss: 1.0202e-04 - accuracy: 1.0000\n",
      "Epoch 42/100\n",
      "1182/1182 [==============================] - 2s 2ms/step - loss: 6.6645e-05 - accuracy: 1.0000\n",
      "Epoch 43/100\n",
      "1182/1182 [==============================] - 2s 2ms/step - loss: 5.1459e-05 - accuracy: 1.0000\n",
      "Epoch 44/100\n",
      "1182/1182 [==============================] - 2s 2ms/step - loss: 0.0036 - accuracy: 0.9990\n",
      "Epoch 45/100\n",
      "1182/1182 [==============================] - 2s 2ms/step - loss: 0.0039 - accuracy: 0.9986\n",
      "Epoch 46/100\n",
      "1182/1182 [==============================] - 2s 2ms/step - loss: 5.2997e-04 - accuracy: 0.9999\n",
      "Epoch 47/100\n",
      "1182/1182 [==============================] - 2s 2ms/step - loss: 0.0040 - accuracy: 0.9987\n",
      "Epoch 48/100\n",
      "1182/1182 [==============================] - 3s 3ms/step - loss: 0.0030 - accuracy: 0.9991\n",
      "Epoch 49/100\n",
      "1182/1182 [==============================] - 2s 2ms/step - loss: 6.4292e-04 - accuracy: 0.9999\n",
      "Epoch 50/100\n",
      "1182/1182 [==============================] - 2s 2ms/step - loss: 0.0028 - accuracy: 0.9992\n",
      "Epoch 51/100\n",
      "1182/1182 [==============================] - 2s 2ms/step - loss: 0.0018 - accuracy: 0.9995\n",
      "Epoch 52/100\n",
      "1182/1182 [==============================] - 2s 2ms/step - loss: 0.0045 - accuracy: 0.9984\n",
      "Epoch 53/100\n",
      "1182/1182 [==============================] - 2s 2ms/step - loss: 0.0020 - accuracy: 0.9996\n",
      "Epoch 54/100\n",
      "1182/1182 [==============================] - 2s 2ms/step - loss: 1.9973e-04 - accuracy: 1.0000\n",
      "Epoch 55/100\n",
      "1182/1182 [==============================] - 2s 2ms/step - loss: 4.2612e-05 - accuracy: 1.0000\n",
      "Epoch 56/100\n",
      "1182/1182 [==============================] - 2s 2ms/step - loss: 3.1929e-05 - accuracy: 1.0000\n",
      "Epoch 57/100\n",
      "1182/1182 [==============================] - 2s 2ms/step - loss: 2.5956e-05 - accuracy: 1.0000\n",
      "Epoch 58/100\n",
      "1182/1182 [==============================] - 2s 2ms/step - loss: 1.8522e-05 - accuracy: 1.0000\n",
      "Epoch 59/100\n",
      "1182/1182 [==============================] - 2s 2ms/step - loss: 4.1107e-05 - accuracy: 1.0000\n",
      "Epoch 60/100\n",
      "1182/1182 [==============================] - 2s 2ms/step - loss: 0.0187 - accuracy: 0.9945\n",
      "Epoch 61/100\n",
      "1182/1182 [==============================] - 2s 2ms/step - loss: 5.4463e-04 - accuracy: 0.9998\n",
      "Epoch 62/100\n",
      "1182/1182 [==============================] - 2s 2ms/step - loss: 8.5095e-05 - accuracy: 1.0000\n",
      "Epoch 63/100\n",
      "1182/1182 [==============================] - 2s 2ms/step - loss: 4.0083e-05 - accuracy: 1.0000\n",
      "Epoch 64/100\n",
      "1182/1182 [==============================] - 3s 3ms/step - loss: 2.2206e-05 - accuracy: 1.0000\n",
      "Epoch 65/100\n",
      "1182/1182 [==============================] - 3s 2ms/step - loss: 1.6588e-05 - accuracy: 1.0000\n",
      "Epoch 66/100\n",
      "1182/1182 [==============================] - 2s 2ms/step - loss: 1.2161e-05 - accuracy: 1.0000\n",
      "Epoch 67/100\n",
      "1182/1182 [==============================] - 2s 2ms/step - loss: 9.6748e-06 - accuracy: 1.0000\n",
      "Epoch 68/100\n",
      "1182/1182 [==============================] - 2s 2ms/step - loss: 7.1404e-06 - accuracy: 1.0000\n",
      "Epoch 69/100\n",
      "1182/1182 [==============================] - 2s 2ms/step - loss: 0.0115 - accuracy: 0.9970\n",
      "Epoch 70/100\n",
      "1182/1182 [==============================] - 2s 2ms/step - loss: 0.0022 - accuracy: 0.9994\n",
      "Epoch 71/100\n",
      "1182/1182 [==============================] - 2s 2ms/step - loss: 0.0016 - accuracy: 0.9994\n",
      "Epoch 72/100\n",
      "1182/1182 [==============================] - 2s 2ms/step - loss: 9.8290e-04 - accuracy: 0.9996\n",
      "Epoch 73/100\n",
      "1182/1182 [==============================] - 2s 2ms/step - loss: 0.0048 - accuracy: 0.9985\n",
      "Epoch 74/100\n",
      "1182/1182 [==============================] - 2s 2ms/step - loss: 0.0019 - accuracy: 0.9993\n",
      "Epoch 75/100\n",
      "1182/1182 [==============================] - 2s 2ms/step - loss: 7.6648e-04 - accuracy: 0.9999\n",
      "Epoch 76/100\n",
      "1182/1182 [==============================] - 2s 2ms/step - loss: 4.7678e-04 - accuracy: 0.9999\n",
      "Epoch 77/100\n",
      "1182/1182 [==============================] - 2s 2ms/step - loss: 0.0018 - accuracy: 0.9995\n",
      "Epoch 78/100\n",
      "1182/1182 [==============================] - 2s 2ms/step - loss: 0.0031 - accuracy: 0.9989\n",
      "Epoch 79/100\n",
      "1182/1182 [==============================] - 3s 2ms/step - loss: 5.3227e-04 - accuracy: 0.9999\n",
      "Epoch 80/100\n",
      "1182/1182 [==============================] - 2s 2ms/step - loss: 8.2249e-05 - accuracy: 1.0000\n",
      "Epoch 81/100\n",
      "1182/1182 [==============================] - 3s 2ms/step - loss: 4.6325e-05 - accuracy: 1.0000\n",
      "Epoch 82/100\n",
      "1182/1182 [==============================] - 2s 2ms/step - loss: 1.0740e-05 - accuracy: 1.0000\n",
      "Epoch 83/100\n",
      "1182/1182 [==============================] - 2s 2ms/step - loss: 7.9490e-06 - accuracy: 1.0000\n",
      "Epoch 84/100\n",
      "1182/1182 [==============================] - 2s 2ms/step - loss: 5.8691e-06 - accuracy: 1.0000\n",
      "Epoch 85/100\n",
      "1182/1182 [==============================] - 2s 2ms/step - loss: 4.7912e-06 - accuracy: 1.0000\n",
      "Epoch 86/100\n",
      "1182/1182 [==============================] - 2s 2ms/step - loss: 4.0747e-04 - accuracy: 0.9999\n",
      "Epoch 87/100\n",
      "1182/1182 [==============================] - 2s 2ms/step - loss: 0.0099 - accuracy: 0.9972\n",
      "Epoch 88/100\n",
      "1182/1182 [==============================] - 2s 2ms/step - loss: 2.7785e-04 - accuracy: 0.9999\n",
      "Epoch 89/100\n",
      "1182/1182 [==============================] - 2s 2ms/step - loss: 0.0018 - accuracy: 0.9994\n",
      "Epoch 90/100\n",
      "1182/1182 [==============================] - 2s 2ms/step - loss: 7.1241e-04 - accuracy: 0.9998\n",
      "Epoch 91/100\n",
      "1182/1182 [==============================] - 2s 2ms/step - loss: 0.0043 - accuracy: 0.9988\n",
      "Epoch 92/100\n",
      "1182/1182 [==============================] - 2s 2ms/step - loss: 4.6128e-04 - accuracy: 0.9999\n",
      "Epoch 93/100\n",
      "1182/1182 [==============================] - 2s 2ms/step - loss: 0.0018 - accuracy: 0.9994\n",
      "Epoch 94/100\n",
      "1182/1182 [==============================] - 2s 2ms/step - loss: 0.0023 - accuracy: 0.9992\n",
      "Epoch 95/100\n",
      "1182/1182 [==============================] - 3s 2ms/step - loss: 7.4990e-04 - accuracy: 0.9998\n",
      "Epoch 96/100\n",
      "1182/1182 [==============================] - 2s 2ms/step - loss: 0.0014 - accuracy: 0.9997\n",
      "Epoch 97/100\n",
      "1182/1182 [==============================] - 3s 2ms/step - loss: 0.0041 - accuracy: 0.9987\n",
      "Epoch 98/100\n",
      "1182/1182 [==============================] - 2s 2ms/step - loss: 8.6713e-04 - accuracy: 0.9998\n",
      "Epoch 99/100\n",
      "1182/1182 [==============================] - 2s 2ms/step - loss: 1.6261e-05 - accuracy: 1.0000\n",
      "Epoch 100/100\n",
      "1182/1182 [==============================] - 2s 2ms/step - loss: 9.4151e-06 - accuracy: 1.0000\n"
     ]
    },
    {
     "data": {
      "text/plain": [
       "<tensorflow.python.keras.callbacks.History at 0x7f21fc317350>"
      ]
     },
     "execution_count": 27,
     "metadata": {},
     "output_type": "execute_result"
    }
   ],
   "source": [
    "model = keras.Sequential([\n",
    "    keras.layers.Flatten(input_shape=(28, 28)),\n",
    "    keras.layers.Dense(100, activation='relu'),\n",
    "    keras.layers.Dense(10, activation='sigmoid')\n",
    "])\n",
    "\n",
    "model.compile(optimizer='adam',\n",
    "              loss='sparse_categorical_crossentropy',\n",
    "              metrics=['accuracy'])\n",
    "\n",
    "model.fit(X_train, Y_train, epochs=100)"
   ]
  },
  {
   "cell_type": "code",
   "execution_count": 28,
   "id": "95ce244b",
   "metadata": {
    "execution": {
     "iopub.execute_input": "2021-09-09T09:46:12.946497Z",
     "iopub.status.busy": "2021-09-09T09:46:12.945921Z",
     "iopub.status.idle": "2021-09-09T09:46:13.263680Z",
     "shell.execute_reply": "2021-09-09T09:46:13.264090Z",
     "shell.execute_reply.started": "2021-09-09T09:07:25.568190Z"
    },
    "papermill": {
     "duration": 2.545106,
     "end_time": "2021-09-09T09:46:13.264265",
     "exception": false,
     "start_time": "2021-09-09T09:46:10.719159",
     "status": "completed"
    },
    "tags": []
   },
   "outputs": [
    {
     "name": "stdout",
     "output_type": "stream",
     "text": [
      "132/132 [==============================] - 0s 1ms/step - loss: 0.1949 - accuracy: 0.9786\n"
     ]
    },
    {
     "data": {
      "text/plain": [
       "[0.19490946829319, 0.9785714149475098]"
      ]
     },
     "execution_count": 28,
     "metadata": {},
     "output_type": "execute_result"
    }
   ],
   "source": [
    "model.evaluate(X_val,Y_val)"
   ]
  },
  {
   "cell_type": "code",
   "execution_count": 29,
   "id": "593aafb3",
   "metadata": {
    "execution": {
     "iopub.execute_input": "2021-09-09T09:46:17.965247Z",
     "iopub.status.busy": "2021-09-09T09:46:17.964409Z",
     "iopub.status.idle": "2021-09-09T09:46:18.824558Z",
     "shell.execute_reply": "2021-09-09T09:46:18.825023Z",
     "shell.execute_reply.started": "2021-09-09T09:07:26.032634Z"
    },
    "papermill": {
     "duration": 3.311054,
     "end_time": "2021-09-09T09:46:18.825201",
     "exception": false,
     "start_time": "2021-09-09T09:46:15.514147",
     "status": "completed"
    },
    "tags": []
   },
   "outputs": [],
   "source": [
    "# predict results\n",
    "results = model.predict(test)\n",
    "\n",
    "# select the indix with the maximum probability\n",
    "results = np.argmax(results,axis = 1)\n",
    "\n",
    "results = pd.Series(results,name=\"Label\")"
   ]
  },
  {
   "cell_type": "code",
   "execution_count": 30,
   "id": "539cdc3c",
   "metadata": {
    "execution": {
     "iopub.execute_input": "2021-09-09T09:46:23.291333Z",
     "iopub.status.busy": "2021-09-09T09:46:23.290637Z",
     "iopub.status.idle": "2021-09-09T09:46:23.339073Z",
     "shell.execute_reply": "2021-09-09T09:46:23.338635Z",
     "shell.execute_reply.started": "2021-09-09T09:07:27.619018Z"
    },
    "papermill": {
     "duration": 2.26979,
     "end_time": "2021-09-09T09:46:23.339231",
     "exception": false,
     "start_time": "2021-09-09T09:46:21.069441",
     "status": "completed"
    },
    "tags": []
   },
   "outputs": [],
   "source": [
    "submission = pd.concat([pd.Series(range(1,28001),name = \"ImageId\"),results],axis = 1)\n",
    "\n",
    "submission.to_csv(\"digit1.csv\",index=False)"
   ]
  }
 ],
 "metadata": {
  "kernelspec": {
   "display_name": "Python 3",
   "language": "python",
   "name": "python3"
  },
  "language_info": {
   "codemirror_mode": {
    "name": "ipython",
    "version": 3
   },
   "file_extension": ".py",
   "mimetype": "text/x-python",
   "name": "python",
   "nbconvert_exporter": "python",
   "pygments_lexer": "ipython3",
   "version": "3.7.10"
  },
  "papermill": {
   "default_parameters": {},
   "duration": 503.587219,
   "end_time": "2021-09-09T09:46:27.597638",
   "environment_variables": {},
   "exception": null,
   "input_path": "__notebook__.ipynb",
   "output_path": "__notebook__.ipynb",
   "parameters": {},
   "start_time": "2021-09-09T09:38:04.010419",
   "version": "2.3.3"
  }
 },
 "nbformat": 4,
 "nbformat_minor": 5
}
